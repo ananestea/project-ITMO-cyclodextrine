{
 "cells": [
  {
   "cell_type": "code",
   "execution_count": 5,
   "metadata": {},
   "outputs": [
    {
     "name": "stdout",
     "output_type": "stream",
     "text": [
      "Requirement already satisfied: biopython in c:\\users\\anastasia\\anaconda3\\lib\\site-packages (1.80)\n",
      "Requirement already satisfied: numpy in c:\\users\\anastasia\\anaconda3\\lib\\site-packages (from biopython) (1.21.5)\n"
     ]
    }
   ],
   "source": [
    "%pip install biopython\n",
    "from Bio import PDB\n",
    "x = PDB.Vector([0, 0, 0])"
   ]
  },
  {
   "cell_type": "code",
   "execution_count": null,
   "metadata": {},
   "outputs": [],
   "source": [
    "%pip install numpy"
   ]
  },
  {
   "cell_type": "code",
   "execution_count": 21,
   "metadata": {},
   "outputs": [
    {
     "name": "stdout",
     "output_type": "stream",
     "text": [
      "[[-0.87596899  0.34108527 -0.34108527]\n",
      " [ 0.34108527  0.9379845   0.0620155 ]\n",
      " [-0.34108527  0.0620155   0.9379845 ]]\n"
     ]
    }
   ],
   "source": [
    "import numpy as np\n",
    "rotation_matrix = PDB.rotmat(PDB.Vector([0, 0, 0]), PDB.Vector([11, -2 , 2]))\n",
    "position_1 = np.transpose(rotation_matrix)\n",
    "print(position_1)"
   ]
  }
 ],
 "metadata": {
  "kernelspec": {
   "display_name": "base",
   "language": "python",
   "name": "python3"
  },
  "language_info": {
   "codemirror_mode": {
    "name": "ipython",
    "version": 3
   },
   "file_extension": ".py",
   "mimetype": "text/x-python",
   "name": "python",
   "nbconvert_exporter": "python",
   "pygments_lexer": "ipython3",
   "version": "3.9.13"
  },
  "orig_nbformat": 4,
  "vscode": {
   "interpreter": {
    "hash": "f5b3c1b0a7761d160b792796c3d4eede809f21f1bf5fface2b0bc3148b56e7b5"
   }
  }
 },
 "nbformat": 4,
 "nbformat_minor": 2
}
